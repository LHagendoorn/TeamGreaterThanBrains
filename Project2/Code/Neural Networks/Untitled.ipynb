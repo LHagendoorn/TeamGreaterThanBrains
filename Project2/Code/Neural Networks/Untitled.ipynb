{
 "cells": [
  {
   "cell_type": "code",
   "execution_count": 19,
   "metadata": {
    "collapsed": true
   },
   "outputs": [],
   "source": [
    "# These are all the modules we'll be using later. Make sure you can import them\n",
    "# before proceeding further.\n",
    "from __future__ import print_function\n",
    "import numpy as np\n",
    "import tensorflow as tf\n",
    "from six.moves import cPickle as pickle\n",
    "from six.moves import range\n",
    "import sys \n",
    "import os\n",
    "sys.path.append(os.path.abspath(\"/media/sf_Project2/Code\"))\n",
    "from IO import Input\n",
    "from IO import Output\n",
    "import pandas as pd\n",
    "\n",
    "class cd:\n",
    "    \"\"\"Context manager for changing the current working directory\"\"\"\n",
    "    def __init__(self, newPath):\n",
    "        self.newPath = os.path.expanduser(newPath)\n",
    "\n",
    "    def __enter__(self):\n",
    "        self.savedPath = os.getcwd()\n",
    "        os.chdir(self.newPath)\n",
    "\n",
    "    def __exit__(self, etype, value, traceback):\n",
    "        os.chdir(self.savedPath)"
   ]
  },
  {
   "cell_type": "code",
   "execution_count": 20,
   "metadata": {
    "collapsed": true
   },
   "outputs": [],
   "source": [
    "with cd(\"/media/sf_Project2/Code\"): \n",
    "    train_dataset = np.array(Input.load_trainset_caffefeatures(featureSelectionMethod='RF',Percentile = 100)).astype('float32')\n",
    "    train_labels = np.array(Input.load_trainset_labels()).astype('float32')\n",
    "    valid_dataset = np.array(Input.load_validationset_caffefeatures(featureSelectionMethod='RF',Percentile = 100)).astype('float32')\n",
    "    valid_labels = np.array(Input.load_validationset_labels()).astype('float32')"
   ]
  },
  {
   "cell_type": "code",
   "execution_count": 21,
   "metadata": {
    "collapsed": false
   },
   "outputs": [
    {
     "name": "stdout",
     "output_type": "stream",
     "text": [
      "[[ 0.]\n",
      " [ 0.]\n",
      " [ 0.]\n",
      " ..., \n",
      " [ 0.]\n",
      " [ 0.]\n",
      " [ 0.]]\n",
      "Training set (14363, 3983) (14363, 10)\n",
      "Validation set (8061, 3983) (8061, 10)\n",
      "[[ 1.  0.  0. ...,  0.  0.  0.]\n",
      " [ 1.  0.  0. ...,  0.  0.  0.]\n",
      " [ 1.  0.  0. ...,  0.  0.  0.]\n",
      " ..., \n",
      " [ 0.  0.  0. ...,  0.  0.  1.]\n",
      " [ 0.  0.  0. ...,  0.  0.  1.]\n",
      " [ 0.  0.  0. ...,  0.  0.  1.]]\n"
     ]
    }
   ],
   "source": [
    "num_labels=10\n",
    "train_labels = np.squeeze((np.arange(num_labels) == train_labels[:,None]).astype(np.float32))\n",
    "valid_labels = np.squeeze((np.arange(num_labels) == valid_labels[:,None]).astype(np.float32))\n",
    "train_labels0 = train_labels[:,1]\n",
    "train_labels0 = train_labels0.reshape((train_labels.shape[0],1))\n",
    "\n",
    "print(train_labels0)\n",
    "#print(train_dataset)\n",
    "#train_labels = train_labels.reshape((train_labels.shape[0],1))\n",
    "#valid_labels = valid_labels.reshape((valid_labels.shape[0],1))\n",
    "print('Training set', train_dataset.shape, train_labels.shape)\n",
    "print('Validation set', valid_dataset.shape, valid_labels.shape)\n",
    "feature_size = train_dataset.shape[1]\n",
    "print(train_labels)"
   ]
  },
  {
   "cell_type": "code",
   "execution_count": 22,
   "metadata": {
    "collapsed": true
   },
   "outputs": [],
   "source": [
    "def accuracy(predictions, labels):\n",
    "  return (100.0 * np.sum(np.argmax(predictions, 1) == np.argmax(labels,1))\n",
    "          / predictions.shape[0])"
   ]
  },
  {
   "cell_type": "markdown",
   "metadata": {},
   "source": [
    "# Network:"
   ]
  },
  {
   "cell_type": "code",
   "execution_count": 23,
   "metadata": {
    "collapsed": false
   },
   "outputs": [],
   "source": [
    "batch_size = 64\n",
    "hlSize1 = 2048\n",
    "hlSize0 = 516\n",
    "beta = 0.008\n",
    "#decay_steps = 200\n",
    "#decay_rate = 0.90\n",
    "#learningStart=0.0007\n",
    "decay_steps = 200\n",
    "decay_rate = 0.95\n",
    "learningStart=0.00012\n",
    "\n",
    "stdv = 0.03\n",
    "#patch_size = 5\n",
    "#depth = 16\n",
    "#num_hidden = 64\n",
    "\n",
    "graph = tf.Graph()\n",
    "\n",
    "with graph.as_default():\n",
    "    \n",
    "  global_step = tf.Variable(0)  # count the number of steps taken.\n",
    "\n",
    "  # Input data.\n",
    "  tf_train_dataset = tf.placeholder(\n",
    "    tf.float32, shape=(batch_size, feature_size))\n",
    "  tf_train_labels = tf.placeholder(tf.float32, shape=(batch_size,num_labels))\n",
    "  tf_valid_dataset = tf.constant(valid_dataset)\n",
    "  #tf_test_dataset = tf.constant(test_dataset)\n",
    "  \n",
    "  # Variables.\n",
    "  input_weights = tf.Variable(tf.truncated_normal(\n",
    "      [feature_size,hlSize1],\n",
    "            stddev=stdv))\n",
    "  input_biases = tf.Variable(tf.zeros([hlSize1]))\n",
    "  layer1_weights = tf.Variable(tf.truncated_normal(\n",
    "      [hlSize1,hlSize0], \n",
    "            stddev=stdv))\n",
    "  layer1_biases = tf.Variable(tf.constant(0.0, shape=[hlSize0]))\n",
    "  layer2_weights = tf.Variable(tf.truncated_normal([hlSize0,num_labels]))\n",
    "  layer2_biases = tf.Variable(tf.constant(0.0, shape=[num_labels]))\n",
    "\n",
    "  # Model.\n",
    "  def model(data):\n",
    "    layer1 = tf.nn.relu(tf.matmul(data, input_weights) + input_biases)\n",
    "    layer2 = tf.nn.relu(tf.matmul(layer1, layer1_weights) + layer1_biases)\n",
    "    layer3 = tf.matmul(layer2,layer2_weights) + layer2_biases\n",
    "    return layer3\n",
    "  \n",
    "  # Training computation.\n",
    "  logits = model(tf_train_dataset)\n",
    "  loss = tf.reduce_mean(tf.nn.softmax_cross_entropy_with_logits(logits, tf_train_labels))\n",
    "  loss = loss + beta * tf.nn.l2_loss(input_weights) + \\\n",
    "    beta * tf.nn.l2_loss(layer1_weights) + \\\n",
    "    beta * tf.nn.l2_loss(layer2_weights)\n",
    "  #  beta * tf.nn.l2_loss(layer3_weights) + \\\n",
    "  #  beta * tf.nn.l2_loss(output_weights)\n",
    "\n",
    "  # Optimizer.\n",
    "  learning_rate = tf.train.exponential_decay(learningStart, global_step, decay_steps, decay_rate)\n",
    "  optimizer = tf.train.GradientDescentOptimizer(learning_rate).minimize(loss, global_step=global_step)\n",
    "  #optimizer = tf.train.GradientDescentOptimizer(0.00005).minimize(loss)\n",
    "  \n",
    "  # Predictions for the training, validation, and test data.\n",
    "  train_prediction = tf.nn.softmax(logits)\n",
    "  valid_prediction = tf.nn.softmax(model(tf_valid_dataset))\n",
    "  #test_prediction = tf.nn.softmax(model(tf_test_dataset))"
   ]
  },
  {
   "cell_type": "code",
   "execution_count": 24,
   "metadata": {
    "collapsed": false
   },
   "outputs": [
    {
     "name": "stdout",
     "output_type": "stream",
     "text": [
      "Initialized\n",
      "Minibatch loss at step 0: 78.823364\n",
      "Minibatch accuracy: 0.0%\n",
      "Validation accuracy: 10.7%\n",
      "Minibatch loss at step 100: 46.659042\n",
      "Minibatch accuracy: 25.0%\n",
      "Validation accuracy: 13.8%\n",
      "Minibatch loss at step 200: 51.192360\n",
      "Minibatch accuracy: 40.6%\n",
      "Validation accuracy: 17.8%\n",
      "Minibatch loss at step 300: 41.470341\n",
      "Minibatch accuracy: 96.9%\n",
      "Validation accuracy: 20.2%\n",
      "Minibatch loss at step 400: 44.390656\n",
      "Minibatch accuracy: 15.6%\n",
      "Validation accuracy: 23.0%\n",
      "Minibatch loss at step 500: 41.464569\n",
      "Minibatch accuracy: 98.4%\n",
      "Validation accuracy: 24.1%\n",
      "Minibatch loss at step 600: 42.902336\n",
      "Minibatch accuracy: 57.8%\n",
      "Validation accuracy: 25.8%\n",
      "Minibatch loss at step 700: 41.637356\n",
      "Minibatch accuracy: 85.9%\n",
      "Validation accuracy: 27.3%\n",
      "Minibatch loss at step 800: 42.851952\n",
      "Minibatch accuracy: 48.4%\n",
      "Validation accuracy: 26.7%\n",
      "Minibatch loss at step 900: 41.481224\n",
      "Minibatch accuracy: 95.3%\n",
      "Validation accuracy: 29.0%\n",
      "Minibatch loss at step 1000: 43.149227\n",
      "Minibatch accuracy: 54.7%\n",
      "Validation accuracy: 26.5%\n",
      "Minibatch loss at step 1100: 41.842766\n",
      "Minibatch accuracy: 75.0%\n",
      "Validation accuracy: 29.8%\n",
      "Minibatch loss at step 1200: 41.283466\n",
      "Minibatch accuracy: 100.0%\n",
      "Validation accuracy: 30.1%\n",
      "Minibatch loss at step 1300: 42.081425\n",
      "Minibatch accuracy: 68.8%\n",
      "Validation accuracy: 33.1%\n",
      "Minibatch loss at step 1400: 41.775848\n",
      "Minibatch accuracy: 85.9%\n",
      "Validation accuracy: 29.5%\n",
      "Minibatch loss at step 1500: 41.299335\n",
      "Minibatch accuracy: 100.0%\n",
      "Validation accuracy: 32.0%\n",
      "Minibatch loss at step 1600: 42.928772\n",
      "Minibatch accuracy: 53.1%\n",
      "Validation accuracy: 30.7%\n",
      "Minibatch loss at step 1700: 41.869797\n",
      "Minibatch accuracy: 79.7%\n",
      "Validation accuracy: 32.0%\n",
      "Minibatch loss at step 1800: 41.642365\n",
      "Minibatch accuracy: 89.1%\n",
      "Validation accuracy: 32.3%\n",
      "Minibatch loss at step 1900: 41.390869\n",
      "Minibatch accuracy: 95.3%\n",
      "Validation accuracy: 32.5%\n",
      "Minibatch loss at step 2000: 41.712440\n",
      "Minibatch accuracy: 82.8%\n",
      "Validation accuracy: 33.7%\n",
      "Minibatch loss at step 2100: 41.934322\n",
      "Minibatch accuracy: 71.9%\n",
      "Validation accuracy: 32.6%\n",
      "Minibatch loss at step 2200: 41.233894\n",
      "Minibatch accuracy: 100.0%\n",
      "Validation accuracy: 33.8%\n",
      "Minibatch loss at step 2300: 41.258862\n",
      "Minibatch accuracy: 96.9%\n",
      "Validation accuracy: 32.4%\n",
      "Minibatch loss at step 2400: 41.275970\n",
      "Minibatch accuracy: 98.4%\n",
      "Validation accuracy: 32.4%\n",
      "Minibatch loss at step 2500: 41.247211\n",
      "Minibatch accuracy: 100.0%\n",
      "Validation accuracy: 32.6%\n",
      "Minibatch loss at step 2600: 41.225517\n",
      "Minibatch accuracy: 100.0%\n",
      "Validation accuracy: 33.0%\n",
      "Minibatch loss at step 2700: 41.253849\n",
      "Minibatch accuracy: 100.0%\n",
      "Validation accuracy: 34.0%\n",
      "Minibatch loss at step 2800: 41.222675\n",
      "Minibatch accuracy: 100.0%\n",
      "Validation accuracy: 33.4%\n",
      "Minibatch loss at step 2900: 41.322121\n",
      "Minibatch accuracy: 92.2%\n",
      "Validation accuracy: 34.0%\n",
      "Minibatch loss at step 3000: 41.230488\n",
      "Minibatch accuracy: 100.0%\n",
      "Validation accuracy: 33.2%\n",
      "Minibatch loss at step 3100: 41.382050\n",
      "Minibatch accuracy: 90.6%\n",
      "Validation accuracy: 34.6%\n",
      "Minibatch loss at step 3200: 41.300564\n",
      "Minibatch accuracy: 96.9%\n",
      "Validation accuracy: 33.8%\n",
      "Minibatch loss at step 3300: 41.608437\n",
      "Minibatch accuracy: 87.5%\n",
      "Validation accuracy: 34.5%\n",
      "Minibatch loss at step 3400: 41.247597\n",
      "Minibatch accuracy: 98.4%\n",
      "Validation accuracy: 34.4%\n",
      "Minibatch loss at step 3500: 41.156635\n",
      "Minibatch accuracy: 100.0%\n",
      "Validation accuracy: 34.4%\n",
      "Minibatch loss at step 3600: 41.376911\n",
      "Minibatch accuracy: 93.8%\n",
      "Validation accuracy: 34.1%\n",
      "Minibatch loss at step 3700: 41.366051\n",
      "Minibatch accuracy: 95.3%\n",
      "Validation accuracy: 33.8%\n",
      "Minibatch loss at step 3800: 41.380486\n",
      "Minibatch accuracy: 90.6%\n",
      "Validation accuracy: 34.1%\n",
      "Minibatch loss at step 3900: 41.184040\n",
      "Minibatch accuracy: 100.0%\n",
      "Validation accuracy: 34.2%\n",
      "Minibatch loss at step 4000: 41.663002\n",
      "Minibatch accuracy: 85.9%\n",
      "Validation accuracy: 34.8%\n",
      "Minibatch loss at step 4100: 41.248585\n",
      "Minibatch accuracy: 98.4%\n",
      "Validation accuracy: 34.0%\n",
      "Minibatch loss at step 4200: 41.418896\n",
      "Minibatch accuracy: 92.2%\n",
      "Validation accuracy: 34.2%\n",
      "Minibatch loss at step 4300: 41.227463\n",
      "Minibatch accuracy: 95.3%\n",
      "Validation accuracy: 34.5%\n",
      "Minibatch loss at step 4400: 41.336250\n",
      "Minibatch accuracy: 92.2%\n",
      "Validation accuracy: 34.2%\n",
      "Minibatch loss at step 4500: 41.144379\n",
      "Minibatch accuracy: 100.0%\n",
      "Validation accuracy: 34.8%\n",
      "Minibatch loss at step 4600: 41.166252\n",
      "Minibatch accuracy: 100.0%\n",
      "Validation accuracy: 34.4%\n",
      "Minibatch loss at step 4700: 41.212177\n",
      "Minibatch accuracy: 98.4%\n",
      "Validation accuracy: 34.8%\n",
      "Minibatch loss at step 4800: 41.236206\n",
      "Minibatch accuracy: 98.4%\n",
      "Validation accuracy: 34.3%\n",
      "Minibatch loss at step 4900: 41.204140\n",
      "Minibatch accuracy: 98.4%\n",
      "Validation accuracy: 34.9%\n",
      "Minibatch loss at step 5000: 41.227306\n",
      "Minibatch accuracy: 96.9%\n",
      "Validation accuracy: 34.6%\n",
      "Minibatch loss at step 5100: 41.375389\n",
      "Minibatch accuracy: 90.6%\n",
      "Validation accuracy: 34.9%\n",
      "Minibatch loss at step 5200: 41.236275\n",
      "Minibatch accuracy: 95.3%\n",
      "Validation accuracy: 34.4%\n",
      "Minibatch loss at step 5300: 41.143826\n",
      "Minibatch accuracy: 100.0%\n",
      "Validation accuracy: 34.7%\n",
      "Minibatch loss at step 5400: 41.211040\n",
      "Minibatch accuracy: 96.9%\n",
      "Validation accuracy: 34.7%\n",
      "Minibatch loss at step 5500: 41.210838\n",
      "Minibatch accuracy: 96.9%\n",
      "Validation accuracy: 34.7%\n",
      "Minibatch loss at step 5600: 41.176357\n",
      "Minibatch accuracy: 96.9%\n",
      "Validation accuracy: 34.9%\n",
      "Minibatch loss at step 5700: 41.272068\n",
      "Minibatch accuracy: 92.2%\n",
      "Validation accuracy: 34.8%\n",
      "Minibatch loss at step 5800: 41.189262\n",
      "Minibatch accuracy: 96.9%\n",
      "Validation accuracy: 35.1%\n",
      "Minibatch loss at step 5900: 41.249649\n",
      "Minibatch accuracy: 95.3%\n",
      "Validation accuracy: 34.9%\n",
      "Minibatch loss at step 6000: 41.148468\n",
      "Minibatch accuracy: 98.4%\n",
      "Validation accuracy: 35.0%\n",
      "finished!\n"
     ]
    }
   ],
   "source": [
    "num_steps = 6001\n",
    "\n",
    "with tf.Session(graph=graph) as session:\n",
    "  tf.initialize_all_variables().run()\n",
    "  print('Initialized')\n",
    "  for step in range(num_steps):\n",
    "    offset = (step * batch_size) % (train_labels.shape[0] - batch_size)\n",
    "    batch_data = train_dataset[offset:(offset + batch_size), :]\n",
    "    batch_labels = train_labels[offset:(offset + batch_size)]\n",
    "    feed_dict = {tf_train_dataset : batch_data, tf_train_labels : batch_labels}\n",
    "    _, l, predictions = session.run(\n",
    "      [optimizer, loss, train_prediction], feed_dict=feed_dict)\n",
    "    if (step % 100 == 0):\n",
    "      print('Minibatch loss at step %d: %f' % (step, l))\n",
    "      print('Minibatch accuracy: %.1f%%' % accuracy(predictions, batch_labels))\n",
    "      print('Validation accuracy: %.1f%%' % accuracy(\n",
    "        valid_prediction.eval(), valid_labels))\n",
    "  #print('Test accuracy: %.1f%%' % accuracy(test_prediction.eval(), test_labels))\n",
    "  print(\"finished!\")\n",
    "  input_weights_val = input_weights.eval()\n",
    "  input_biases_val = input_biases.eval()\n",
    "  layer1_weights_val = layer1_weights.eval()\n",
    "  layer1_biases_val = layer1_biases.eval()\n",
    "  valid_prediction_val = valid_prediction.eval()"
   ]
  },
  {
   "cell_type": "code",
   "execution_count": 27,
   "metadata": {
    "collapsed": true
   },
   "outputs": [],
   "source": [
    "validData = pd.DataFrame(valid_prediction_val)\n",
    "Output.to_outputfile(validData,1,'NNSTRUCTURE12valid')"
   ]
  },
  {
   "cell_type": "code",
   "execution_count": null,
   "metadata": {
    "collapsed": true
   },
   "outputs": [],
   "source": []
  },
  {
   "cell_type": "code",
   "execution_count": null,
   "metadata": {
    "collapsed": true
   },
   "outputs": [],
   "source": [
    "with cd(\"/media/sf_Project2/Code\"): \n",
    "    test_data = np.array(Input.load_testdata_caffefeatures(True,range(30000),'RF',100)).astype('float32')"
   ]
  },
  {
   "cell_type": "code",
   "execution_count": null,
   "metadata": {
    "collapsed": false
   },
   "outputs": [],
   "source": [
    "with tf.Session() as session:\n",
    "    layer1 = tf.nn.relu(tf.matmul(test_data, input_weights_val) + input_biases_val)\n",
    "    layer2 = tf.matmul(layer1, layer1_weights_val) + layer1_biases_val\n",
    "    firstHalfTest = tf.nn.softmax(layer2).eval()\n",
    "print(firstHalfTest)"
   ]
  },
  {
   "cell_type": "code",
   "execution_count": null,
   "metadata": {
    "collapsed": true
   },
   "outputs": [],
   "source": [
    "with cd(\"/media/sf_Project2/Code\"): \n",
    "    test_data = np.array(Input.load_testdata_caffefeatures(True,range(30000,60000),'RF',100)).astype('float32')"
   ]
  },
  {
   "cell_type": "code",
   "execution_count": null,
   "metadata": {
    "collapsed": true
   },
   "outputs": [],
   "source": [
    "with tf.Session() as session:\n",
    "    layer1 = tf.nn.relu(tf.matmul(test_data, input_weights_val) + input_biases_val)\n",
    "    layer2 = tf.matmul(layer1, layer1_weights_val) + layer1_biases_val\n",
    "    firstHalfTest = tf.nn.softmax(layer2).eval()\n",
    "print(secondHalfTest)"
   ]
  },
  {
   "cell_type": "code",
   "execution_count": null,
   "metadata": {
    "collapsed": true
   },
   "outputs": [],
   "source": [
    "with cd(\"/media/sf_Project2/Code\"): \n",
    "    test_data = np.array(Input.load_testdata_caffefeatures(True,range(60000,80000),'RF',100)).astype('float32')"
   ]
  },
  {
   "cell_type": "code",
   "execution_count": null,
   "metadata": {
    "collapsed": true
   },
   "outputs": [],
   "source": [
    "with tf.Session() as session:\n",
    "    layer1 = tf.nn.relu(tf.matmul(test_data, input_weights_val) + input_biases_val)\n",
    "    layer2 = tf.matmul(layer1, layer1_weights_val) + layer1_biases_val\n",
    "    firstHalfTest = tf.nn.softmax(layer2).eval()\n",
    "print(secondHalfTest)"
   ]
  },
  {
   "cell_type": "code",
   "execution_count": null,
   "metadata": {
    "collapsed": true
   },
   "outputs": [],
   "source": [
    "testClass = np.concatenate([firstHalfTest,secondHalfTest],0)\n",
    "testClass = pd.DataFrame(testClass)\n",
    "Output.to_outputfile(testClass,1,\"NNSTRUCTURE1testset\",validation=False)"
   ]
  },
  {
   "cell_type": "code",
   "execution_count": null,
   "metadata": {
    "collapsed": true
   },
   "outputs": [],
   "source": []
  }
 ],
 "metadata": {
  "kernelspec": {
   "display_name": "Python 2",
   "language": "python",
   "name": "python2"
  },
  "language_info": {
   "codemirror_mode": {
    "name": "ipython",
    "version": 2
   },
   "file_extension": ".py",
   "mimetype": "text/x-python",
   "name": "python",
   "nbconvert_exporter": "python",
   "pygments_lexer": "ipython2",
   "version": "2.7.11"
  }
 },
 "nbformat": 4,
 "nbformat_minor": 0
}
