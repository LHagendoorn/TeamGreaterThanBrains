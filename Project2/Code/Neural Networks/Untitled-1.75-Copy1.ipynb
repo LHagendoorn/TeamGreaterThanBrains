{
 "cells": [
  {
   "cell_type": "code",
   "execution_count": 9,
   "metadata": {
    "collapsed": true
   },
   "outputs": [],
   "source": [
    "# These are all the modules we'll be using later. Make sure you can import them\n",
    "# before proceeding further.\n",
    "from __future__ import print_function\n",
    "import numpy as np\n",
    "import tensorflow as tf\n",
    "from six.moves import cPickle as pickle\n",
    "from six.moves import range\n",
    "import sys \n",
    "import os\n",
    "sys.path.append(os.path.abspath(\"/media/sf_Project2/Code\"))\n",
    "from IO import Input\n",
    "from IO import Output\n",
    "import pandas as pd\n",
    "\n",
    "class cd:\n",
    "    \"\"\"Context manager for changing the current working directory\"\"\"\n",
    "    def __init__(self, newPath):\n",
    "        self.newPath = os.path.expanduser(newPath)\n",
    "\n",
    "    def __enter__(self):\n",
    "        self.savedPath = os.getcwd()\n",
    "        os.chdir(self.newPath)\n",
    "\n",
    "    def __exit__(self, etype, value, traceback):\n",
    "        os.chdir(self.savedPath)"
   ]
  },
  {
   "cell_type": "code",
   "execution_count": 10,
   "metadata": {
    "collapsed": false
   },
   "outputs": [],
   "source": [
    "with cd(\"/media/sf_Project2/Code\"): \n",
    "    train_dataset = np.array(Input.load_trainset_caffefeatures(featureSelectionMethod='RF',Percentile = 100)).astype('float32')\n",
    "    train_labels = np.array(Input.load_trainset_labels()).astype('float32')\n",
    "    valid_dataset = np.array(Input.load_validationset_caffefeatures(featureSelectionMethod='RF',Percentile = 100)).astype('float32')\n",
    "    valid_labels = np.array(Input.load_validationset_labels()).astype('float32')"
   ]
  },
  {
   "cell_type": "code",
   "execution_count": 11,
   "metadata": {
    "collapsed": false
   },
   "outputs": [
    {
     "name": "stdout",
     "output_type": "stream",
     "text": [
      "[[ 0.]\n",
      " [ 0.]\n",
      " [ 0.]\n",
      " ..., \n",
      " [ 0.]\n",
      " [ 0.]\n",
      " [ 0.]]\n",
      "Training set (14363, 3983) (14363, 10)\n",
      "Validation set (8061, 3983) (8061, 10)\n",
      "[[ 1.  0.  0. ...,  0.  0.  0.]\n",
      " [ 1.  0.  0. ...,  0.  0.  0.]\n",
      " [ 1.  0.  0. ...,  0.  0.  0.]\n",
      " ..., \n",
      " [ 0.  0.  0. ...,  0.  0.  1.]\n",
      " [ 0.  0.  0. ...,  0.  0.  1.]\n",
      " [ 0.  0.  0. ...,  0.  0.  1.]]\n"
     ]
    }
   ],
   "source": [
    "num_labels=10\n",
    "train_labels = np.squeeze((np.arange(num_labels) == train_labels[:,None]).astype(np.float32))\n",
    "valid_labels = np.squeeze((np.arange(num_labels) == valid_labels[:,None]).astype(np.float32))\n",
    "train_labels0 = train_labels[:,1]\n",
    "train_labels0 = train_labels0.reshape((train_labels.shape[0],1))\n",
    "\n",
    "print(train_labels0)\n",
    "#print(train_dataset)\n",
    "#train_labels = train_labels.reshape((train_labels.shape[0],1))\n",
    "#valid_labels = valid_labels.reshape((valid_labels.shape[0],1))\n",
    "print('Training set', train_dataset.shape, train_labels.shape)\n",
    "print('Validation set', valid_dataset.shape, valid_labels.shape)\n",
    "feature_size = train_dataset.shape[1]\n",
    "print(train_labels)"
   ]
  },
  {
   "cell_type": "code",
   "execution_count": 24,
   "metadata": {
    "collapsed": false
   },
   "outputs": [],
   "source": [
    "import scipy as sp\n",
    "def accuracy(pred,labels):\n",
    "    epsilon = 1e-15\n",
    "    pred = sp.maximum(epsilon, pred)\n",
    "    pred = sp.minimum(1-epsilon, pred)\n",
    "    ll = sum(labels*sp.log(pred) + sp.subtract(1,labels)*sp.log(sp.subtract(1,pred)))\n",
    "    ll = np.sum(ll * -1.0/len(labels))\n",
    "    \n",
    "    return ll "
   ]
  },
  {
   "cell_type": "code",
   "execution_count": null,
   "metadata": {
    "collapsed": true
   },
   "outputs": [],
   "source": []
  },
  {
   "cell_type": "markdown",
   "metadata": {},
   "source": [
    "# Network:"
   ]
  },
  {
   "cell_type": "code",
   "execution_count": 25,
   "metadata": {
    "collapsed": false
   },
   "outputs": [],
   "source": [
    "batch_size = 64\n",
    "hlSize0 = 516\n",
    "beta = 0.008\n",
    "#decay_steps = 200\n",
    "#decay_rate = 0.90\n",
    "#learningStart=0.0007\n",
    "decay_steps = 150\n",
    "decay_rate = 0.97\n",
    "learningStart=0.00012\n",
    "\n",
    "stdv = 0.03\n",
    "#patch_size = 5\n",
    "#depth = 16\n",
    "#num_hidden = 64\n",
    "\n",
    "graph = tf.Graph()\n",
    "\n",
    "with graph.as_default():\n",
    "    \n",
    "  global_step = tf.Variable(0)  # count the number of steps taken.\n",
    "\n",
    "  # Input data.\n",
    "  tf_train_dataset = tf.placeholder(\n",
    "    tf.float32, shape=(batch_size, feature_size))\n",
    "  tf_train_labels = tf.placeholder(tf.float32, shape=(batch_size,num_labels))\n",
    "  tf_valid_dataset = tf.constant(valid_dataset)\n",
    "  #tf_test_dataset = tf.constant(test_dataset)\n",
    "  \n",
    "  # Variables.\n",
    "  input_weights = tf.Variable(tf.truncated_normal(\n",
    "      [feature_size,hlSize0],\n",
    "            stddev=stdv))\n",
    "  input_biases = tf.Variable(tf.zeros([hlSize0]))\n",
    "  layer1_weights = tf.Variable(tf.truncated_normal(\n",
    "      [hlSize0,num_labels], \n",
    "            stddev=stdv))\n",
    "  layer1_biases = tf.Variable(tf.constant(0.0, shape=[num_labels]))\n",
    "\n",
    "  # Model.\n",
    "  def model(data):\n",
    "    layer1 = tf.nn.relu(tf.matmul(data, input_weights) + input_biases)\n",
    "    layer2 = tf.matmul(layer1, layer1_weights) + layer1_biases\n",
    "    return layer2\n",
    "  \n",
    "  # Training computation.\n",
    "  logits = model(tf_train_dataset)\n",
    "  loss = tf.reduce_mean(tf.nn.softmax_cross_entropy_with_logits(logits, tf_train_labels))\n",
    "  loss = loss + beta * tf.nn.l2_loss(input_weights) + \\\n",
    "    beta * tf.nn.l2_loss(layer1_weights)\n",
    "  #  beta * tf.nn.l2_loss(layer2_weights) + \\\n",
    "  #  beta * tf.nn.l2_loss(layer3_weights) + \\\n",
    "  #  beta * tf.nn.l2_loss(output_weights)\n",
    "\n",
    "  # Optimizer.\n",
    "  learning_rate = tf.train.exponential_decay(learningStart, global_step, decay_steps, decay_rate)\n",
    "  optimizer = tf.train.GradientDescentOptimizer(learning_rate).minimize(loss, global_step=global_step)\n",
    "  #optimizer = tf.train.GradientDescentOptimizer(0.00005).minimize(loss)\n",
    "  \n",
    "  # Predictions for the training, validation, and test data.\n",
    "  train_prediction = tf.nn.softmax(logits)\n",
    "  valid_prediction = tf.nn.softmax(model(tf_valid_dataset))\n",
    "  #test_prediction = tf.nn.softmax(model(tf_test_dataset))"
   ]
  },
  {
   "cell_type": "code",
   "execution_count": 26,
   "metadata": {
    "collapsed": false
   },
   "outputs": [
    {
     "name": "stdout",
     "output_type": "stream",
     "text": [
      "Initialized\n",
      "Minibatch loss at step 0: 8.107173\n",
      "Minibatch accuracy: 3.4%\n",
      "Validation accuracy: 3.7%\n",
      "Minibatch loss at step 100: 8.065252\n",
      "Minibatch accuracy: 3.3%\n",
      "Validation accuracy: 3.4%\n",
      "Minibatch loss at step 200: 8.209554\n",
      "Minibatch accuracy: 3.5%\n",
      "Validation accuracy: 3.3%\n",
      "Minibatch loss at step 300: 7.653537\n",
      "Minibatch accuracy: 2.8%\n",
      "Validation accuracy: 3.3%\n",
      "Minibatch loss at step 400: 8.063700\n",
      "Minibatch accuracy: 3.3%\n",
      "Validation accuracy: 3.3%\n",
      "Minibatch loss at step 500: 8.642140\n",
      "Minibatch accuracy: 3.9%\n",
      "Validation accuracy: 3.2%\n",
      "Minibatch loss at step 600: 7.619357\n",
      "Minibatch accuracy: 2.8%\n",
      "Validation accuracy: 3.2%\n",
      "Minibatch loss at step 700: 7.457805\n",
      "Minibatch accuracy: 2.6%\n",
      "Validation accuracy: 3.2%\n",
      "Minibatch loss at step 800: 7.962366\n",
      "Minibatch accuracy: 3.2%\n",
      "Validation accuracy: 3.1%\n",
      "Minibatch loss at step 900: 7.198700\n",
      "Minibatch accuracy: 2.3%\n",
      "Validation accuracy: 3.1%\n",
      "Minibatch loss at step 1000: 8.528196\n",
      "Minibatch accuracy: 3.8%\n",
      "Validation accuracy: 3.1%\n",
      "Minibatch loss at step 1100: 7.359543\n",
      "Minibatch accuracy: 2.5%\n",
      "Validation accuracy: 3.0%\n",
      "Minibatch loss at step 1200: 7.753808\n",
      "Minibatch accuracy: 3.0%\n",
      "Validation accuracy: 3.0%\n",
      "Minibatch loss at step 1300: 7.400480\n",
      "Minibatch accuracy: 2.5%\n",
      "Validation accuracy: 3.0%\n",
      "Minibatch loss at step 1400: 7.021924\n",
      "Minibatch accuracy: 2.0%\n",
      "Validation accuracy: 3.0%\n",
      "Minibatch loss at step 1500: 7.528776\n",
      "Minibatch accuracy: 2.7%\n",
      "Validation accuracy: 3.0%\n",
      "Minibatch loss at step 1600: 8.355216\n",
      "Minibatch accuracy: 3.6%\n",
      "Validation accuracy: 2.9%\n",
      "Minibatch loss at step 1700: 7.574187\n",
      "Minibatch accuracy: 2.7%\n",
      "Validation accuracy: 2.9%\n",
      "Minibatch loss at step 1800: 7.892437\n",
      "Minibatch accuracy: 3.1%\n",
      "Validation accuracy: 2.9%\n",
      "Minibatch loss at step 1900: 7.510032\n",
      "Minibatch accuracy: 2.7%\n",
      "Validation accuracy: 2.9%\n",
      "Minibatch loss at step 2000: 7.685917\n",
      "Minibatch accuracy: 2.9%\n",
      "Validation accuracy: 2.9%\n",
      "Minibatch loss at step 2100: 7.440657\n",
      "Minibatch accuracy: 2.6%\n",
      "Validation accuracy: 2.9%\n",
      "Minibatch loss at step 2200: 7.390570\n",
      "Minibatch accuracy: 2.5%\n",
      "Validation accuracy: 2.9%\n",
      "Minibatch loss at step 2300: 7.646371\n",
      "Minibatch accuracy: 2.8%\n",
      "Validation accuracy: 2.9%\n",
      "Minibatch loss at step 2400: 7.239986\n",
      "Minibatch accuracy: 2.3%\n",
      "Validation accuracy: 2.8%\n",
      "Minibatch loss at step 2500: 6.688977\n",
      "Minibatch accuracy: 1.6%\n",
      "Validation accuracy: 2.8%\n",
      "Minibatch loss at step 2600: 7.540982\n",
      "Minibatch accuracy: 2.7%\n",
      "Validation accuracy: 2.8%\n",
      "Minibatch loss at step 2700: 6.720262\n",
      "Minibatch accuracy: 1.6%\n",
      "Validation accuracy: 2.8%\n",
      "Minibatch loss at step 2800: 7.072380\n",
      "Minibatch accuracy: 2.1%\n",
      "Validation accuracy: 2.8%\n",
      "Minibatch loss at step 2900: 7.256670\n",
      "Minibatch accuracy: 2.4%\n",
      "Validation accuracy: 2.8%\n",
      "Minibatch loss at step 3000: 7.043121\n",
      "Minibatch accuracy: 2.1%\n",
      "Validation accuracy: 2.8%\n",
      "Minibatch loss at step 3100: 6.884770\n",
      "Minibatch accuracy: 1.9%\n",
      "Validation accuracy: 2.8%\n",
      "Minibatch loss at step 3200: 7.310339\n",
      "Minibatch accuracy: 2.5%\n",
      "Validation accuracy: 2.8%\n",
      "Minibatch loss at step 3300: 7.530091\n",
      "Minibatch accuracy: 2.7%\n",
      "Validation accuracy: 2.7%\n",
      "Minibatch loss at step 3400: 7.150028\n",
      "Minibatch accuracy: 2.2%\n",
      "Validation accuracy: 2.8%\n",
      "Minibatch loss at step 3500: 7.085062\n",
      "Minibatch accuracy: 2.2%\n",
      "Validation accuracy: 2.7%\n",
      "Minibatch loss at step 3600: 7.501296\n",
      "Minibatch accuracy: 2.7%\n",
      "Validation accuracy: 2.7%\n",
      "Minibatch loss at step 3700: 7.392556\n",
      "Minibatch accuracy: 2.5%\n",
      "Validation accuracy: 2.7%\n",
      "Minibatch loss at step 3800: 7.195520\n",
      "Minibatch accuracy: 2.3%\n",
      "Validation accuracy: 2.7%\n",
      "Minibatch loss at step 3900: 7.364543\n",
      "Minibatch accuracy: 2.5%\n",
      "Validation accuracy: 2.7%\n",
      "Minibatch loss at step 4000: 7.781026\n",
      "Minibatch accuracy: 3.0%\n",
      "Validation accuracy: 2.7%\n",
      "Minibatch loss at step 4100: 7.130040\n",
      "Minibatch accuracy: 2.2%\n",
      "Validation accuracy: 2.7%\n",
      "Minibatch loss at step 4200: 7.622638\n",
      "Minibatch accuracy: 2.8%\n",
      "Validation accuracy: 2.7%\n",
      "Minibatch loss at step 4300: 6.904546\n",
      "Minibatch accuracy: 1.9%\n",
      "Validation accuracy: 2.7%\n",
      "Minibatch loss at step 4400: 6.902780\n",
      "Minibatch accuracy: 1.9%\n",
      "Validation accuracy: 2.7%\n",
      "Minibatch loss at step 4500: 6.708673\n",
      "Minibatch accuracy: 1.6%\n",
      "Validation accuracy: 2.7%\n",
      "Minibatch loss at step 4600: 6.679084\n",
      "Minibatch accuracy: 1.6%\n",
      "Validation accuracy: 2.7%\n",
      "Minibatch loss at step 4700: 7.661768\n",
      "Minibatch accuracy: 2.9%\n",
      "Validation accuracy: 2.7%\n",
      "Minibatch loss at step 4800: 7.588367\n",
      "Minibatch accuracy: 2.8%\n",
      "Validation accuracy: 2.7%\n",
      "Minibatch loss at step 4900: 7.354773\n",
      "Minibatch accuracy: 2.5%\n",
      "Validation accuracy: 2.7%\n",
      "Minibatch loss at step 5000: 6.703253\n",
      "Minibatch accuracy: 1.6%\n",
      "Validation accuracy: 2.7%\n",
      "Minibatch loss at step 5100: 7.413796\n",
      "Minibatch accuracy: 2.5%\n",
      "Validation accuracy: 2.7%\n",
      "Minibatch loss at step 5200: 7.120346\n",
      "Minibatch accuracy: 2.2%\n",
      "Validation accuracy: 2.7%\n",
      "Minibatch loss at step 5300: 7.414584\n",
      "Minibatch accuracy: 2.6%\n",
      "Validation accuracy: 2.6%\n",
      "Minibatch loss at step 5400: 7.382978\n",
      "Minibatch accuracy: 2.5%\n",
      "Validation accuracy: 2.7%\n",
      "Minibatch loss at step 5500: 7.186946\n",
      "Minibatch accuracy: 2.4%\n",
      "Validation accuracy: 2.6%\n",
      "Minibatch loss at step 5600: 6.596092\n",
      "Minibatch accuracy: 1.5%\n",
      "Validation accuracy: 2.6%\n",
      "Minibatch loss at step 5700: 7.237131\n",
      "Minibatch accuracy: 2.4%\n",
      "Validation accuracy: 2.6%\n",
      "Minibatch loss at step 5800: 6.780712\n",
      "Minibatch accuracy: 1.8%\n",
      "Validation accuracy: 2.6%\n",
      "Minibatch loss at step 5900: 7.041027\n",
      "Minibatch accuracy: 2.1%\n",
      "Validation accuracy: 2.6%\n",
      "Minibatch loss at step 6000: 7.166024\n",
      "Minibatch accuracy: 2.3%\n",
      "Validation accuracy: 2.6%\n",
      "finished!\n"
     ]
    }
   ],
   "source": [
    "num_steps = 6001\n",
    "\n",
    "with tf.Session(graph=graph) as session:\n",
    "  tf.initialize_all_variables().run()\n",
    "  print('Initialized')\n",
    "  for step in range(num_steps):\n",
    "    offset = (step * batch_size) % (train_labels.shape[0] - batch_size)\n",
    "    batch_data = train_dataset[offset:(offset + batch_size), :]\n",
    "    batch_labels = train_labels[offset:(offset + batch_size)]\n",
    "    feed_dict = {tf_train_dataset : batch_data, tf_train_labels : batch_labels}\n",
    "    _, l, predictions = session.run(\n",
    "      [optimizer, loss, train_prediction], feed_dict=feed_dict)\n",
    "    if (step % 100 == 0):\n",
    "      print('Minibatch loss at step %d: %f' % (step, l))\n",
    "      print('Minibatch accuracy: %.1f%%' % accuracy(predictions, batch_labels))\n",
    "      print('Validation accuracy: %.1f%%' % accuracy(\n",
    "        valid_prediction.eval(), valid_labels))\n",
    "  #print('Test accuracy: %.1f%%' % accuracy(test_prediction.eval(), test_labels))\n",
    "  print(\"finished!\")\n",
    "  input_weights_val = input_weights.eval()\n",
    "  input_biases_val = input_biases.eval()\n",
    "  layer1_weights_val = layer1_weights.eval()\n",
    "  layer1_biases_val = layer1_biases.eval()\n",
    "  valid_prediction_val = valid_prediction.eval()"
   ]
  },
  {
   "cell_type": "code",
   "execution_count": 27,
   "metadata": {
    "collapsed": false
   },
   "outputs": [],
   "source": [
    "validData = pd.DataFrame(valid_prediction_val)\n",
    "Output.to_outputfile(validData,1,'NNlogloss14valid')"
   ]
  },
  {
   "cell_type": "code",
   "execution_count": null,
   "metadata": {
    "collapsed": true
   },
   "outputs": [],
   "source": []
  },
  {
   "cell_type": "code",
   "execution_count": 17,
   "metadata": {
    "collapsed": true
   },
   "outputs": [],
   "source": [
    "with cd(\"/media/sf_Project2/Code\"): \n",
    "    test_data = np.array(Input.load_testdata_caffefeatures(True,range(30000),'RF',100)).astype('float32')"
   ]
  },
  {
   "cell_type": "code",
   "execution_count": 18,
   "metadata": {
    "collapsed": false
   },
   "outputs": [
    {
     "name": "stdout",
     "output_type": "stream",
     "text": [
      "[[ 0.0596142   0.14439088  0.3612155  ...,  0.08696077  0.03702684\n",
      "   0.03995219]\n",
      " [ 0.24477209  0.1297767   0.02517665 ...,  0.04445281  0.05572335\n",
      "   0.14426808]\n",
      " [ 0.40642512  0.07195009  0.13021336 ...,  0.03209694  0.22179855\n",
      "   0.10249869]\n",
      " ..., \n",
      " [ 0.10858535  0.18343051  0.16120921 ...,  0.07069349  0.14549027\n",
      "   0.11613334]\n",
      " [ 0.09417057  0.02365284  0.08147081 ...,  0.0475096   0.08872037\n",
      "   0.01363371]\n",
      " [ 0.02660265  0.09868814  0.25429115 ...,  0.02856197  0.01648503\n",
      "   0.00358483]]\n"
     ]
    }
   ],
   "source": [
    "with tf.Session() as session:\n",
    "    layer1 = tf.nn.relu(tf.matmul(test_data, input_weights_val) + input_biases_val)\n",
    "    layer2 = tf.matmul(layer1, layer1_weights_val) + layer1_biases_val\n",
    "    firstHalfTest = tf.nn.softmax(layer2).eval()\n",
    "print(firstHalfTest)"
   ]
  },
  {
   "cell_type": "code",
   "execution_count": 19,
   "metadata": {
    "collapsed": true
   },
   "outputs": [],
   "source": [
    "with cd(\"/media/sf_Project2/Code\"): \n",
    "    test_data = np.array(Input.load_testdata_caffefeatures(True,range(30000,60000),'RF',100)).astype('float32')"
   ]
  },
  {
   "cell_type": "code",
   "execution_count": 20,
   "metadata": {
    "collapsed": false
   },
   "outputs": [
    {
     "name": "stdout",
     "output_type": "stream",
     "text": [
      "[[ 0.01888872  0.03283195  0.12382396 ...,  0.13200016  0.03280394\n",
      "   0.11089096]\n",
      " [ 0.23953389  0.0255143   0.06045777 ...,  0.01913744  0.06200473\n",
      "   0.05665646]\n",
      " [ 0.0293878   0.32002831  0.20523925 ...,  0.11942246  0.09858142\n",
      "   0.03220553]\n",
      " ..., \n",
      " [ 0.31247187  0.03845941  0.01839172 ...,  0.038016    0.05029628\n",
      "   0.12308078]\n",
      " [ 0.28168941  0.0094756   0.03100446 ...,  0.03016209  0.05470277\n",
      "   0.22167306]\n",
      " [ 0.26376244  0.08530376  0.05559533 ...,  0.01588675  0.01901895\n",
      "   0.2209778 ]]\n"
     ]
    }
   ],
   "source": [
    "with tf.Session() as session:\n",
    "    layer1 = tf.nn.relu(tf.matmul(test_data, input_weights_val) + input_biases_val)\n",
    "    layer2 = tf.matmul(layer1, layer1_weights_val) + layer1_biases_val\n",
    "    secondHalfTest = tf.nn.softmax(layer2).eval()\n",
    "print(secondHalfTest)"
   ]
  },
  {
   "cell_type": "code",
   "execution_count": 21,
   "metadata": {
    "collapsed": true
   },
   "outputs": [],
   "source": [
    "with cd(\"/media/sf_Project2/Code\"): \n",
    "    test_data = np.array(Input.load_testdata_caffefeatures(True,range(60000,80000),'RF',100)).astype('float32')"
   ]
  },
  {
   "cell_type": "code",
   "execution_count": 22,
   "metadata": {
    "collapsed": false
   },
   "outputs": [
    {
     "name": "stdout",
     "output_type": "stream",
     "text": [
      "[[ 0.17438526  0.06614044  0.07201292 ...,  0.04925891  0.07350317\n",
      "   0.07848214]\n",
      " [ 0.22405468  0.03417123  0.15462524 ...,  0.1291174   0.07858931\n",
      "   0.08211536]\n",
      " [ 0.22022519  0.09074793  0.03218605 ...,  0.03081081  0.03026744\n",
      "   0.04086332]\n",
      " ..., \n",
      " [ 0.03600797  0.04970362  0.03733748 ...,  0.01686293  0.03669351\n",
      "   0.13310859]\n",
      " [ 0.04982862  0.09211095  0.21691097 ...,  0.26551589  0.07713404\n",
      "   0.03341889]\n",
      " [ 0.08659285  0.04745078  0.01191301 ...,  0.00914811  0.0173691\n",
      "   0.02606795]]\n"
     ]
    }
   ],
   "source": [
    "with tf.Session() as session:\n",
    "    layer1 = tf.nn.relu(tf.matmul(test_data, input_weights_val) + input_biases_val)\n",
    "    layer2 = tf.matmul(layer1, layer1_weights_val) + layer1_biases_val\n",
    "    thirdHalfTest = tf.nn.softmax(layer2).eval()\n",
    "print(thirdHalfTest)"
   ]
  },
  {
   "cell_type": "code",
   "execution_count": 23,
   "metadata": {
    "collapsed": true
   },
   "outputs": [],
   "source": [
    "testClass = np.concatenate([firstHalfTest,secondHalfTest,thirdHalfTest],0)\n",
    "testClass = pd.DataFrame(testClass)\n",
    "Output.to_outputfile(testClass,1,\"NNSTRUCTUR11FULLtestset\",validation=False)"
   ]
  },
  {
   "cell_type": "code",
   "execution_count": null,
   "metadata": {
    "collapsed": true
   },
   "outputs": [],
   "source": []
  },
  {
   "cell_type": "code",
   "execution_count": null,
   "metadata": {
    "collapsed": true
   },
   "outputs": [],
   "source": []
  }
 ],
 "metadata": {
  "kernelspec": {
   "display_name": "Python 2",
   "language": "python",
   "name": "python2"
  },
  "language_info": {
   "codemirror_mode": {
    "name": "ipython",
    "version": 2
   },
   "file_extension": ".py",
   "mimetype": "text/x-python",
   "name": "python",
   "nbconvert_exporter": "python",
   "pygments_lexer": "ipython2",
   "version": "2.7.11"
  }
 },
 "nbformat": 4,
 "nbformat_minor": 0
}
