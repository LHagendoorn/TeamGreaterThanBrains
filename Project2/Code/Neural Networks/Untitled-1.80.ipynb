{
 "cells": [
  {
   "cell_type": "code",
   "execution_count": 3,
   "metadata": {
    "collapsed": true
   },
   "outputs": [],
   "source": [
    "# These are all the modules we'll be using later. Make sure you can import them\n",
    "# before proceeding further.\n",
    "from __future__ import print_function\n",
    "import numpy as np\n",
    "import tensorflow as tf\n",
    "from six.moves import cPickle as pickle\n",
    "from six.moves import range\n",
    "import sys \n",
    "import os\n",
    "sys.path.append(os.path.abspath(\"/media/sf_Project2/Code\"))\n",
    "from IO import Input\n",
    "from IO import Output\n",
    "import pandas as pd\n",
    "\n",
    "class cd:\n",
    "    \"\"\"Context manager for changing the current working directory\"\"\"\n",
    "    def __init__(self, newPath):\n",
    "        self.newPath = os.path.expanduser(newPath)\n",
    "\n",
    "    def __enter__(self):\n",
    "        self.savedPath = os.getcwd()\n",
    "        os.chdir(self.newPath)\n",
    "\n",
    "    def __exit__(self, etype, value, traceback):\n",
    "        os.chdir(self.savedPath)"
   ]
  },
  {
   "cell_type": "code",
   "execution_count": 4,
   "metadata": {
    "collapsed": false
   },
   "outputs": [],
   "source": [
    "with cd(\"/media/sf_Project2/Code\"): \n",
    "    train_dataset = np.array(Input.load_trainset_caffefeatures(featureSelectionMethod='RF',Percentile = 100)).astype('float32')\n",
    "    train_labels = np.array(Input.load_trainset_labels()).astype('float32')\n",
    "    valid_dataset = np.array(Input.load_validationset_caffefeatures(featureSelectionMethod='RF',Percentile = 100)).astype('float32')\n",
    "    valid_labels = np.array(Input.load_validationset_labels()).astype('float32')"
   ]
  },
  {
   "cell_type": "code",
   "execution_count": 5,
   "metadata": {
    "collapsed": false
   },
   "outputs": [
    {
     "name": "stdout",
     "output_type": "stream",
     "text": [
      "[[ 0.]\n",
      " [ 0.]\n",
      " [ 0.]\n",
      " ..., \n",
      " [ 0.]\n",
      " [ 0.]\n",
      " [ 0.]]\n",
      "Training set (14363, 3983) (14363, 10)\n",
      "Validation set (8061, 3983) (8061, 10)\n",
      "[[ 1.  0.  0. ...,  0.  0.  0.]\n",
      " [ 1.  0.  0. ...,  0.  0.  0.]\n",
      " [ 1.  0.  0. ...,  0.  0.  0.]\n",
      " ..., \n",
      " [ 0.  0.  0. ...,  0.  0.  1.]\n",
      " [ 0.  0.  0. ...,  0.  0.  1.]\n",
      " [ 0.  0.  0. ...,  0.  0.  1.]]\n"
     ]
    }
   ],
   "source": [
    "num_labels=10\n",
    "train_labels = np.squeeze((np.arange(num_labels) == train_labels[:,None]).astype(np.float32))\n",
    "valid_labels = np.squeeze((np.arange(num_labels) == valid_labels[:,None]).astype(np.float32))\n",
    "train_labels0 = train_labels[:,1]\n",
    "train_labels0 = train_labels0.reshape((train_labels.shape[0],1))\n",
    "\n",
    "print(train_labels0)\n",
    "#print(train_dataset)\n",
    "#train_labels = train_labels.reshape((train_labels.shape[0],1))\n",
    "#valid_labels = valid_labels.reshape((valid_labels.shape[0],1))\n",
    "print('Training set', train_dataset.shape, train_labels.shape)\n",
    "print('Validation set', valid_dataset.shape, valid_labels.shape)\n",
    "feature_size = train_dataset.shape[1]\n",
    "print(train_labels)"
   ]
  },
  {
   "cell_type": "code",
   "execution_count": 6,
   "metadata": {
    "collapsed": true
   },
   "outputs": [],
   "source": [
    "def accuracy(predictions, labels):\n",
    "  return (100.0 * np.sum(np.argmax(predictions, 1) == np.argmax(labels,1))\n",
    "          / predictions.shape[0])"
   ]
  },
  {
   "cell_type": "markdown",
   "metadata": {},
   "source": [
    "# Network:"
   ]
  },
  {
   "cell_type": "code",
   "execution_count": 7,
   "metadata": {
    "collapsed": false
   },
   "outputs": [],
   "source": [
    "batch_size = 64\n",
    "hlSize0 = 516\n",
    "beta = 0.004\n",
    "#decay_steps = 200\n",
    "#decay_rate = 0.90\n",
    "#learningStart=0.0007\n",
    "decay_steps = 180\n",
    "decay_rate = 0.98\n",
    "learningStart=0.00009\n",
    "\n",
    "stdv = 0.03\n",
    "#patch_size = 5\n",
    "#depth = 16\n",
    "#num_hidden = 64\n",
    "\n",
    "graph = tf.Graph()\n",
    "\n",
    "with graph.as_default():\n",
    "    \n",
    "  global_step = tf.Variable(0)  # count the number of steps taken.\n",
    "\n",
    "  # Input data.\n",
    "  tf_train_dataset = tf.placeholder(\n",
    "    tf.float32, shape=(batch_size, feature_size))\n",
    "  tf_train_labels = tf.placeholder(tf.float32, shape=(batch_size,num_labels))\n",
    "  tf_valid_dataset = tf.constant(valid_dataset)\n",
    "  #tf_test_dataset = tf.constant(test_dataset)\n",
    "  \n",
    "  # Variables.\n",
    "  input_weights = tf.Variable(tf.truncated_normal(\n",
    "      [feature_size,hlSize0],\n",
    "            stddev=stdv))\n",
    "  input_biases = tf.Variable(tf.zeros([hlSize0]))\n",
    "  layer1_weights = tf.Variable(tf.truncated_normal(\n",
    "      [hlSize0,num_labels], \n",
    "            stddev=stdv))\n",
    "  layer1_biases = tf.Variable(tf.constant(0.0, shape=[num_labels]))\n",
    "\n",
    "  # Model.\n",
    "  def model(data):\n",
    "    layer1 = tf.nn.relu(tf.matmul(data, input_weights) + input_biases)\n",
    "    layer2 = tf.matmul(layer1, layer1_weights) + layer1_biases\n",
    "    return layer2\n",
    "  \n",
    "  # Training computation.\n",
    "  logits = model(tf_train_dataset)\n",
    "  loss = tf.reduce_mean(tf.nn.softmax_cross_entropy_with_logits(logits, tf_train_labels))\n",
    "  loss = loss + beta * tf.nn.l2_loss(input_weights) + \\\n",
    "    beta * tf.nn.l2_loss(layer1_weights)\n",
    "  #  beta * tf.nn.l2_loss(layer2_weights) + \\\n",
    "  #  beta * tf.nn.l2_loss(layer3_weights) + \\\n",
    "  #  beta * tf.nn.l2_loss(output_weights)\n",
    "\n",
    "  # Optimizer.\n",
    "  learning_rate = tf.train.exponential_decay(learningStart, global_step, decay_steps, decay_rate)\n",
    "  optimizer = tf.train.GradientDescentOptimizer(learning_rate).minimize(loss, global_step=global_step)\n",
    "  #optimizer = tf.train.GradientDescentOptimizer(0.00005).minimize(loss)\n",
    "  \n",
    "  # Predictions for the training, validation, and test data.\n",
    "  train_prediction = tf.nn.softmax(logits)\n",
    "  valid_prediction = tf.nn.softmax(model(tf_valid_dataset))\n",
    "  #test_prediction = tf.nn.softmax(model(tf_test_dataset))"
   ]
  },
  {
   "cell_type": "code",
   "execution_count": 8,
   "metadata": {
    "collapsed": false
   },
   "outputs": [
    {
     "name": "stdout",
     "output_type": "stream",
     "text": [
      "Initialized\n",
      "Minibatch loss at step 0: 6.242658\n",
      "Minibatch accuracy: 0.0%\n",
      "Validation accuracy: 8.4%\n",
      "Minibatch loss at step 100: 5.136612\n",
      "Minibatch accuracy: 3.1%\n",
      "Validation accuracy: 12.3%\n",
      "Minibatch loss at step 200: 4.925267\n",
      "Minibatch accuracy: 32.8%\n",
      "Validation accuracy: 13.4%\n",
      "Minibatch loss at step 300: 5.418179\n",
      "Minibatch accuracy: 0.0%\n",
      "Validation accuracy: 12.5%\n",
      "Minibatch loss at step 400: 5.389382\n",
      "Minibatch accuracy: 0.0%\n",
      "Validation accuracy: 16.9%\n",
      "Minibatch loss at step 500: 5.406830\n",
      "Minibatch accuracy: 0.0%\n",
      "Validation accuracy: 14.4%\n",
      "Minibatch loss at step 600: 5.117654\n",
      "Minibatch accuracy: 10.9%\n",
      "Validation accuracy: 18.9%\n",
      "Minibatch loss at step 700: 4.680746\n",
      "Minibatch accuracy: 57.8%\n",
      "Validation accuracy: 18.0%\n",
      "Minibatch loss at step 800: 5.033174\n",
      "Minibatch accuracy: 9.4%\n",
      "Validation accuracy: 20.2%\n",
      "Minibatch loss at step 900: 4.758352\n",
      "Minibatch accuracy: 43.8%\n",
      "Validation accuracy: 20.7%\n",
      "Minibatch loss at step 1000: 4.707358\n",
      "Minibatch accuracy: 57.8%\n",
      "Validation accuracy: 22.6%\n",
      "Minibatch loss at step 1100: 5.327944\n",
      "Minibatch accuracy: 3.1%\n",
      "Validation accuracy: 22.8%\n",
      "Minibatch loss at step 1200: 4.210023\n",
      "Minibatch accuracy: 76.6%\n",
      "Validation accuracy: 22.6%\n",
      "Minibatch loss at step 1300: 5.208912\n",
      "Minibatch accuracy: 1.6%\n",
      "Validation accuracy: 25.4%\n",
      "Minibatch loss at step 1400: 4.749211\n",
      "Minibatch accuracy: 29.7%\n",
      "Validation accuracy: 24.6%\n",
      "Minibatch loss at step 1500: 4.356926\n",
      "Minibatch accuracy: 68.8%\n",
      "Validation accuracy: 26.8%\n",
      "Minibatch loss at step 1600: 5.457077\n",
      "Minibatch accuracy: 23.4%\n",
      "Validation accuracy: 27.0%\n",
      "Minibatch loss at step 1700: 4.955027\n",
      "Minibatch accuracy: 45.3%\n",
      "Validation accuracy: 27.8%\n",
      "Minibatch loss at step 1800: 5.391247\n",
      "Minibatch accuracy: 0.0%\n",
      "Validation accuracy: 28.1%\n",
      "Minibatch loss at step 1900: 4.639730\n",
      "Minibatch accuracy: 32.8%\n",
      "Validation accuracy: 30.3%\n",
      "Minibatch loss at step 2000: 4.776868\n",
      "Minibatch accuracy: 28.1%\n",
      "Validation accuracy: 29.7%\n",
      "Minibatch loss at step 2100: 4.655487\n",
      "Minibatch accuracy: 46.9%\n",
      "Validation accuracy: 30.7%\n",
      "Minibatch loss at step 2200: 4.921019\n",
      "Minibatch accuracy: 7.8%\n",
      "Validation accuracy: 30.2%\n",
      "Minibatch loss at step 2300: 4.048699\n",
      "Minibatch accuracy: 84.4%\n",
      "Validation accuracy: 31.5%\n",
      "Minibatch loss at step 2400: 4.265470\n",
      "Minibatch accuracy: 71.9%\n",
      "Validation accuracy: 31.4%\n",
      "Minibatch loss at step 2500: 4.000414\n",
      "Minibatch accuracy: 96.9%\n",
      "Validation accuracy: 31.9%\n",
      "Minibatch loss at step 2600: 4.321789\n",
      "Minibatch accuracy: 82.8%\n",
      "Validation accuracy: 32.7%\n",
      "Minibatch loss at step 2700: 4.287501\n",
      "Minibatch accuracy: 85.9%\n",
      "Validation accuracy: 33.9%\n",
      "Minibatch loss at step 2800: 4.369526\n",
      "Minibatch accuracy: 56.2%\n",
      "Validation accuracy: 34.1%\n",
      "Minibatch loss at step 2900: 4.597065\n",
      "Minibatch accuracy: 18.8%\n",
      "Validation accuracy: 33.1%\n",
      "Minibatch loss at step 3000: 4.336506\n",
      "Minibatch accuracy: 87.5%\n",
      "Validation accuracy: 34.9%\n",
      "Minibatch loss at step 3100: 4.123948\n",
      "Minibatch accuracy: 60.9%\n",
      "Validation accuracy: 34.9%\n",
      "Minibatch loss at step 3200: 4.792170\n",
      "Minibatch accuracy: 17.2%\n",
      "Validation accuracy: 34.6%\n",
      "Minibatch loss at step 3300: 4.875511\n",
      "Minibatch accuracy: 29.7%\n",
      "Validation accuracy: 36.1%\n",
      "Minibatch loss at step 3400: 4.581477\n",
      "Minibatch accuracy: 51.6%\n",
      "Validation accuracy: 35.5%\n",
      "Minibatch loss at step 3500: 3.859292\n",
      "Minibatch accuracy: 96.9%\n",
      "Validation accuracy: 36.7%\n",
      "Minibatch loss at step 3600: 4.634207\n",
      "Minibatch accuracy: 37.5%\n",
      "Validation accuracy: 35.5%\n",
      "Minibatch loss at step 3700: 4.770656\n",
      "Minibatch accuracy: 39.1%\n",
      "Validation accuracy: 36.7%\n",
      "Minibatch loss at step 3800: 4.193409\n",
      "Minibatch accuracy: 67.2%\n",
      "Validation accuracy: 36.4%\n",
      "Minibatch loss at step 3900: 4.511747\n",
      "Minibatch accuracy: 71.9%\n",
      "Validation accuracy: 37.7%\n",
      "Minibatch loss at step 4000: 4.960843\n",
      "Minibatch accuracy: 10.9%\n",
      "Validation accuracy: 36.7%\n",
      "Minibatch loss at step 4100: 4.026960\n",
      "Minibatch accuracy: 92.2%\n",
      "Validation accuracy: 36.9%\n",
      "Minibatch loss at step 4200: 4.603000\n",
      "Minibatch accuracy: 23.4%\n",
      "Validation accuracy: 37.6%\n",
      "Minibatch loss at step 4300: 4.256180\n",
      "Minibatch accuracy: 37.5%\n",
      "Validation accuracy: 36.6%\n",
      "Minibatch loss at step 4400: 4.166179\n",
      "Minibatch accuracy: 46.9%\n",
      "Validation accuracy: 38.8%\n",
      "Minibatch loss at step 4500: 3.953849\n",
      "Minibatch accuracy: 96.9%\n",
      "Validation accuracy: 38.4%\n",
      "Minibatch loss at step 4600: 4.800382\n",
      "Minibatch accuracy: 6.2%\n",
      "Validation accuracy: 39.3%\n",
      "Minibatch loss at step 4700: 4.755798\n",
      "Minibatch accuracy: 51.6%\n",
      "Validation accuracy: 38.9%\n",
      "Minibatch loss at step 4800: 4.238213\n",
      "Minibatch accuracy: 70.3%\n",
      "Validation accuracy: 38.9%\n",
      "Minibatch loss at step 4900: 4.655348\n",
      "Minibatch accuracy: 46.9%\n",
      "Validation accuracy: 39.3%\n",
      "Minibatch loss at step 5000: 3.857512\n",
      "Minibatch accuracy: 90.6%\n",
      "Validation accuracy: 39.5%\n",
      "Minibatch loss at step 5100: 4.478330\n",
      "Minibatch accuracy: 34.4%\n",
      "Validation accuracy: 40.1%\n",
      "Minibatch loss at step 5200: 4.321648\n",
      "Minibatch accuracy: 64.1%\n",
      "Validation accuracy: 38.6%\n",
      "Minibatch loss at step 5300: 4.501988\n",
      "Minibatch accuracy: 48.4%\n",
      "Validation accuracy: 40.5%\n",
      "Minibatch loss at step 5400: 4.452019\n",
      "Minibatch accuracy: 46.9%\n",
      "Validation accuracy: 39.7%\n",
      "Minibatch loss at step 5500: 4.441053\n",
      "Minibatch accuracy: 26.6%\n",
      "Validation accuracy: 40.9%\n",
      "Minibatch loss at step 5600: 4.109375\n",
      "Minibatch accuracy: 75.0%\n",
      "Validation accuracy: 39.8%\n",
      "Minibatch loss at step 5700: 4.643059\n",
      "Minibatch accuracy: 21.9%\n",
      "Validation accuracy: 39.9%\n",
      "Minibatch loss at step 5800: 3.960055\n",
      "Minibatch accuracy: 93.8%\n",
      "Validation accuracy: 41.2%\n",
      "Minibatch loss at step 5900: 4.241919\n",
      "Minibatch accuracy: 48.4%\n",
      "Validation accuracy: 40.3%\n",
      "Minibatch loss at step 6000: 4.132617\n",
      "Minibatch accuracy: 79.7%\n",
      "Validation accuracy: 41.2%\n",
      "finished!\n"
     ]
    }
   ],
   "source": [
    "num_steps = 6001\n",
    "\n",
    "with tf.Session(graph=graph) as session:\n",
    "  tf.initialize_all_variables().run()\n",
    "  print('Initialized')\n",
    "  for step in range(num_steps):\n",
    "    offset = (step * batch_size) % (train_labels.shape[0] - batch_size)\n",
    "    batch_data = train_dataset[offset:(offset + batch_size), :]\n",
    "    batch_labels = train_labels[offset:(offset + batch_size)]\n",
    "    feed_dict = {tf_train_dataset : batch_data, tf_train_labels : batch_labels}\n",
    "    _, l, predictions = session.run(\n",
    "      [optimizer, loss, train_prediction], feed_dict=feed_dict)\n",
    "    if (step % 100 == 0):\n",
    "      print('Minibatch loss at step %d: %f' % (step, l))\n",
    "      print('Minibatch accuracy: %.1f%%' % accuracy(predictions, batch_labels))\n",
    "      print('Validation accuracy: %.1f%%' % accuracy(\n",
    "        valid_prediction.eval(), valid_labels))\n",
    "  #print('Test accuracy: %.1f%%' % accuracy(test_prediction.eval(), test_labels))\n",
    "  print(\"finished!\")\n",
    "  input_weights_val = input_weights.eval()\n",
    "  input_biases_val = input_biases.eval()\n",
    "  layer1_weights_val = layer1_weights.eval()\n",
    "  layer1_biases_val = layer1_biases.eval()\n",
    "  valid_prediction_val = valid_prediction.eval()"
   ]
  },
  {
   "cell_type": "code",
   "execution_count": 9,
   "metadata": {
    "collapsed": true
   },
   "outputs": [],
   "source": [
    "validData = pd.DataFrame(valid_prediction_val)\n",
    "Output.to_outputfile(validData,1,'NNSTRUCTURE7valid')"
   ]
  },
  {
   "cell_type": "code",
   "execution_count": null,
   "metadata": {
    "collapsed": true
   },
   "outputs": [],
   "source": []
  },
  {
   "cell_type": "code",
   "execution_count": 10,
   "metadata": {
    "collapsed": true
   },
   "outputs": [],
   "source": [
    "with cd(\"/media/sf_Project2/Code\"): \n",
    "    test_data = np.array(Input.load_testdata_caffefeatures(True,range(30000),'RF',100)).astype('float32')"
   ]
  },
  {
   "cell_type": "code",
   "execution_count": 11,
   "metadata": {
    "collapsed": false
   },
   "outputs": [
    {
     "name": "stdout",
     "output_type": "stream",
     "text": [
      "[[ 0.06329893  0.32748848  0.06300098 ...,  0.03864574  0.04600954\n",
      "   0.13266549]\n",
      " [ 0.24048705  0.08168793  0.05648522 ...,  0.02412184  0.05482405\n",
      "   0.0986474 ]\n",
      " [ 0.1110265   0.04528941  0.30981088 ...,  0.03188354  0.11247267\n",
      "   0.23245654]\n",
      " ..., \n",
      " [ 0.12895267  0.09142771  0.04086019 ...,  0.08836001  0.09279449\n",
      "   0.12798877]\n",
      " [ 0.27548581  0.1776623   0.09167734 ...,  0.05189721  0.02843883\n",
      "   0.03427691]\n",
      " [ 0.07029021  0.18386991  0.13908726 ...,  0.0250117   0.05912545\n",
      "   0.013356  ]]\n"
     ]
    }
   ],
   "source": [
    "with tf.Session() as session:\n",
    "    layer1 = tf.nn.relu(tf.matmul(test_data, input_weights_val) + input_biases_val)\n",
    "    layer2 = tf.matmul(layer1, layer1_weights_val) + layer1_biases_val\n",
    "    firstHalfTest = tf.nn.softmax(layer2).eval()\n",
    "print(firstHalfTest)"
   ]
  },
  {
   "cell_type": "code",
   "execution_count": 12,
   "metadata": {
    "collapsed": true
   },
   "outputs": [],
   "source": [
    "with cd(\"/media/sf_Project2/Code\"): \n",
    "    test_data = np.array(Input.load_testdata_caffefeatures(True,range(30000,60000),'RF',100)).astype('float32')"
   ]
  },
  {
   "cell_type": "code",
   "execution_count": 13,
   "metadata": {
    "collapsed": false
   },
   "outputs": [
    {
     "name": "stdout",
     "output_type": "stream",
     "text": [
      "[[ 0.04254227  0.13280852  0.07062809 ...,  0.074274    0.01857557\n",
      "   0.09168234]\n",
      " [ 0.30529121  0.04095709  0.0151107  ...,  0.02018827  0.02076059\n",
      "   0.06663001]\n",
      " [ 0.09787036  0.26003116  0.20167604 ...,  0.03652278  0.08004014\n",
      "   0.03488561]\n",
      " ..., \n",
      " [ 0.30568621  0.06550854  0.0123859  ...,  0.12942395  0.04053192\n",
      "   0.1380109 ]\n",
      " [ 0.31968117  0.011182    0.00976147 ...,  0.17636795  0.02771321\n",
      "   0.23987441]\n",
      " [ 0.16726017  0.07674735  0.06646004 ...,  0.01434362  0.11277219\n",
      "   0.14769414]]\n"
     ]
    }
   ],
   "source": [
    "with tf.Session() as session:\n",
    "    layer1 = tf.nn.relu(tf.matmul(test_data, input_weights_val) + input_biases_val)\n",
    "    layer2 = tf.matmul(layer1, layer1_weights_val) + layer1_biases_val\n",
    "    secondHalfTest = tf.nn.softmax(layer2).eval()\n",
    "print(secondHalfTest)"
   ]
  },
  {
   "cell_type": "code",
   "execution_count": 14,
   "metadata": {
    "collapsed": true
   },
   "outputs": [],
   "source": [
    "with cd(\"/media/sf_Project2/Code\"): \n",
    "    test_data = np.array(Input.load_testdata_caffefeatures(True,range(60000,80000),'RF',100)).astype('float32')"
   ]
  },
  {
   "cell_type": "code",
   "execution_count": 15,
   "metadata": {
    "collapsed": false
   },
   "outputs": [
    {
     "name": "stdout",
     "output_type": "stream",
     "text": [
      "[[ 0.0842452   0.05863297  0.08064885 ...,  0.07276397  0.05425767\n",
      "   0.07034339]\n",
      " [ 0.05660829  0.05322461  0.03187521 ...,  0.19003496  0.05924417\n",
      "   0.12862273]\n",
      " [ 0.18723793  0.04147238  0.05337696 ...,  0.07124321  0.04266255\n",
      "   0.16713482]\n",
      " ..., \n",
      " [ 0.05908116  0.01816196  0.01661102 ...,  0.02768991  0.02275595\n",
      "   0.08630345]\n",
      " [ 0.03613416  0.03610254  0.06415363 ...,  0.37308347  0.11508513\n",
      "   0.04020213]\n",
      " [ 0.22548842  0.0365442   0.02960149 ...,  0.01616046  0.05358925\n",
      "   0.11068434]]\n"
     ]
    }
   ],
   "source": [
    "with tf.Session() as session:\n",
    "    layer1 = tf.nn.relu(tf.matmul(test_data, input_weights_val) + input_biases_val)\n",
    "    layer2 = tf.matmul(layer1, layer1_weights_val) + layer1_biases_val\n",
    "    thirdHalfTest = tf.nn.softmax(layer2).eval()\n",
    "print(thirdHalfTest)"
   ]
  },
  {
   "cell_type": "code",
   "execution_count": 17,
   "metadata": {
    "collapsed": true
   },
   "outputs": [],
   "source": [
    "testClass = np.concatenate([firstHalfTest,secondHalfTest,thirdHalfTest],0)\n",
    "testClass = pd.DataFrame(testClass)\n",
    "Output.to_outputfile(testClass,1,\"NNSTRUCTURE7testset\",validation=False)"
   ]
  },
  {
   "cell_type": "code",
   "execution_count": null,
   "metadata": {
    "collapsed": true
   },
   "outputs": [],
   "source": []
  }
 ],
 "metadata": {
  "kernelspec": {
   "display_name": "Python 2",
   "language": "python",
   "name": "python2"
  },
  "language_info": {
   "codemirror_mode": {
    "name": "ipython",
    "version": 2
   },
   "file_extension": ".py",
   "mimetype": "text/x-python",
   "name": "python",
   "nbconvert_exporter": "python",
   "pygments_lexer": "ipython2",
   "version": "2.7.11"
  }
 },
 "nbformat": 4,
 "nbformat_minor": 0
}
